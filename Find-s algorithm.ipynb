{
 "cells": [
  {
   "cell_type": "code",
   "execution_count": 1,
   "metadata": {},
   "outputs": [
    {
     "name": "stdout",
     "output_type": "stream",
     "text": [
      "[['Sunny', 'Rainy'], ['Warm', 'Cold'], ['Normal', 'High'], ['Strong', 'Weak'], ['Warm', 'Cool'], ['Same', 'Change']]\n",
      "6\n",
      "\n",
      " The most general hypothesis:['?','?','?','?','?','?']\n",
      "\n",
      "\n",
      " The most specific hypothesis:['0','0','0','0','0','0']\n",
      "\n",
      "\n",
      " The given training data set\n",
      "\n",
      "['Sky', 'AirTemp', 'Humidity', 'Wind', 'Water', 'Forecast', 'Enjoysport']\n",
      "['Sunny', 'Warm', 'Normal', 'Strong', 'Worm', 'Same', 'Yes']\n",
      "['Sunny', 'Warm', 'High', 'Strong', 'Warm', 'Same', 'Yes']\n",
      "['Rainy', 'Cold', 'High', 'Strong', 'Warm', 'Change', 'No']\n",
      "['Sunny', 'Warm', 'High', 'Strong', 'Cool', 'Change', 'Yes']\n",
      "\n",
      " The initial value of hypothesis\n",
      "['0', '0', '0', '0', '0', '0']\n",
      "\n",
      " for training example:5 the hypothesis \n",
      " ['Sunny', 'Warm', '?', 'Strong', '?', '?']\n"
     ]
    }
   ],
   "source": [
    "import random\n",
    "import csv\n",
    "attributes=[['Sunny','Rainy'],\n",
    "           ['Warm','Cold'],\n",
    "           ['Normal','High'],\n",
    "           ['Strong','Weak'],\n",
    "           ['Warm','Cool'],\n",
    "           ['Same','Change']]\n",
    "print(attributes)\n",
    "num_attributes=len(attributes)\n",
    "print(num_attributes)\n",
    "print(\"\\n The most general hypothesis:['?','?','?','?','?','?']\\n\")\n",
    "print(\"\\n The most specific hypothesis:['0','0','0','0','0','0']\\n\")\n",
    "a=[]\n",
    "print(\"\\n The given training data set\\n\")\n",
    "with open('sport.csv','r') as csvFile:\n",
    "    reader=csv.reader(csvFile)\n",
    "    for row in reader:\n",
    "        a.append(row)\n",
    "        print(row)\n",
    "print(\"\\n The initial value of hypothesis\")\n",
    "h=['0']*num_attributes\n",
    "print(h) \n",
    "for i in range(0,len(a)):\n",
    "    if a[i][num_attributes]=='Yes':\n",
    "        for j in range(num_attributes):\n",
    "            if h[j]=='0' or h[j]==a[i][j]:\n",
    "                h[j]=a[i][j]\n",
    "            else:\n",
    "                h[j]='?'\n",
    "print(\"\\n for training example:{0} the hypothesis \\n\".format(i+1),h)\n",
    "        \n",
    "    \n",
    "    \n"
   ]
  },
  {
   "cell_type": "code",
   "execution_count": 12,
   "metadata": {},
   "outputs": [
    {
     "name": "stdout",
     "output_type": "stream",
     "text": [
      "      AirTemp Humidity    Wind Water Forecast Enjoysport\n",
      "Sky                                                     \n",
      "Sunny    Warm   Normal  Strong  Worm     Same        Yes\n",
      "Sunny    Warm     High  Strong  Warm     Same        Yes\n",
      "Rainy    Cold     High  Strong  Warm   Change         No\n",
      "Sunny    Warm     High  Strong  Cool   Change        Yes\n",
      "\n",
      " The positive Hypothesis are\n",
      "[['Warm', 'Normal', 'Strong', 'Worm', 'Same', 'Yes'], ['Warm', 'High', 'Strong', 'Warm', 'Same', 'Yes'], ['Warm', 'High', 'Strong', 'Cool', 'Change', 'Yes']]\n",
      "\n",
      " The negative hypothesis are\n",
      "[['Cold', 'High', 'Strong', 'Warm', 'Change', 'No']]\n",
      "The Maximally Specific Hypothesis are\n",
      "['Warm', '?', 'Strong', '?', '?']\n"
     ]
    },
    {
     "name": "stderr",
     "output_type": "stream",
     "text": [
      "C:\\Users\\91990\\Anaconda3\\lib\\site-packages\\ipykernel_launcher.py:2: FutureWarning: from_csv is deprecated. Please use read_csv(...) instead. Note that some of the default arguments are different, so please refer to the documentation for from_csv when changing your function calls\n",
      "  \n"
     ]
    }
   ],
   "source": [
    "from pandas import DataFrame\n",
    "data=DataFrame.from_csv('sport.csv')\n",
    "columnLength=data.shape[1]\n",
    "print(data)\n",
    "h=['0']*(columnLength-1)\n",
    "hp=[]\n",
    "hn=[]\n",
    "for trainingExample in data.values:\n",
    "    if trainingExample[-1]!='No':\n",
    "        hp.append(list(trainingExample))\n",
    "    else:\n",
    "        hn.append(list(trainingExample))\n",
    "for i in range(len(hp)):\n",
    "    for j in range(columnLength-1):\n",
    "        if(h[j]=='0'):\n",
    "            h[j]=hp[i][j]\n",
    "        if(h[j]!=hp[i][j]):\n",
    "            h[j]='?'\n",
    "        else:\n",
    "            h[j]=hp[i][j]\n",
    "print('\\n The positive Hypothesis are')\n",
    "print(hp)\n",
    "print('\\n The negative hypothesis are')\n",
    "print(hn)\n",
    "print('The Maximally Specific Hypothesis are')\n",
    "print(h)\n"
   ]
  },
  {
   "cell_type": "code",
   "execution_count": null,
   "metadata": {},
   "outputs": [],
   "source": []
  }
 ],
 "metadata": {
  "kernelspec": {
   "display_name": "Python 3",
   "language": "python",
   "name": "python3"
  },
  "language_info": {
   "codemirror_mode": {
    "name": "ipython",
    "version": 3
   },
   "file_extension": ".py",
   "mimetype": "text/x-python",
   "name": "python",
   "nbconvert_exporter": "python",
   "pygments_lexer": "ipython3",
   "version": "3.7.0"
  }
 },
 "nbformat": 4,
 "nbformat_minor": 2
}
